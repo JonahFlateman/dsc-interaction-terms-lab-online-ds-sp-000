{
 "cells": [
  {
   "cell_type": "markdown",
   "metadata": {},
   "source": [
    "# Interactions - Lab"
   ]
  },
  {
   "cell_type": "markdown",
   "metadata": {},
   "source": [
    "## Introduction"
   ]
  },
  {
   "cell_type": "markdown",
   "metadata": {},
   "source": [
    "In this lab, you'll explore interactions in the Ames Housing dataset."
   ]
  },
  {
   "cell_type": "markdown",
   "metadata": {},
   "source": [
    "## Objectives"
   ]
  },
  {
   "cell_type": "markdown",
   "metadata": {},
   "source": [
    "You will be able to:\n",
    "- Implement interaction terms in Python using the `sklearn` and `statsmodels` packages \n",
    "- Interpret interaction variables in the context of a real-world problem "
   ]
  },
  {
   "cell_type": "markdown",
   "metadata": {},
   "source": [
    "## Build a baseline model "
   ]
  },
  {
   "cell_type": "markdown",
   "metadata": {},
   "source": [
    "You'll use a couple of built-in functions, which we imported for you below: "
   ]
  },
  {
   "cell_type": "code",
   "execution_count": 1,
   "metadata": {},
   "outputs": [],
   "source": [
    "from sklearn.linear_model import LinearRegression\n",
    "from sklearn.model_selection import cross_val_score\n",
    "from sklearn.model_selection import KFold\n",
    "import pandas as pd\n",
    "import numpy as np\n",
    "import matplotlib.pyplot as plt"
   ]
  },
  {
   "cell_type": "markdown",
   "metadata": {},
   "source": [
    "If you still want to build a model in the end, you can do that, but this lab will just focus on finding meaningful insights in interactions and how they can improve $R^2$ values."
   ]
  },
  {
   "cell_type": "code",
   "execution_count": 2,
   "metadata": {},
   "outputs": [],
   "source": [
    "regression = LinearRegression()"
   ]
  },
  {
   "cell_type": "markdown",
   "metadata": {},
   "source": [
    "Create a baseline model which includes all the variables we selected from the Ames housing data set to predict the house prices. Then use 10-fold cross-validation and report the mean $R^2$ value as the baseline $R^2$."
   ]
  },
  {
   "cell_type": "code",
   "execution_count": 41,
   "metadata": {},
   "outputs": [],
   "source": [
    "ames = pd.read_csv('ames.csv')\n",
    "\n",
    "continuous = ['LotArea', '1stFlrSF', 'GrLivArea', 'SalePrice']\n",
    "categoricals = ['BldgType', 'KitchenQual', 'SaleType', 'MSZoning', 'Street', 'Neighborhood']\n",
    "\n",
    "ames_cont = ames[continuous]\n",
    "\n",
    "# log features\n",
    "log_names = [f'{column}_log' for column in ames_cont.columns]\n",
    "\n",
    "ames_log = np.log(ames_cont)\n",
    "ames_log.columns = log_names\n",
    "\n",
    "# normalize (subract mean and divide by std)\n",
    "\n",
    "def normalize(feature):\n",
    "    return (feature - feature.mean()) / feature.std()\n",
    "\n",
    "ames_log_norm = ames_log.apply(normalize)\n",
    "\n",
    "# one hot encode categoricals\n",
    "ames_ohe = pd.get_dummies(ames[categoricals], prefix=categoricals, drop_first=True)\n",
    "\n",
    "preprocessed = pd.concat([ames_cont, ames_ohe], axis=1)\n",
    "\n",
    "X = preprocessed.drop('SalePrice', axis=1)\n",
    "y = preprocessed['SalePrice']\n"
   ]
  },
  {
   "cell_type": "code",
   "execution_count": 42,
   "metadata": {},
   "outputs": [
    {
     "data": {
      "text/plain": [
       "0.7773817128042101"
      ]
     },
     "execution_count": 42,
     "metadata": {},
     "output_type": "execute_result"
    }
   ],
   "source": [
    "regression = LinearRegression()\n",
    "crossvalidation = KFold(n_splits=10, shuffle=True, random_state=1)\n",
    "\n",
    "baseline = np.mean(cross_val_score(regression, X, y, scoring='r2', cv=crossvalidation))\n",
    "baseline"
   ]
  },
  {
   "cell_type": "markdown",
   "metadata": {},
   "source": [
    "## See how interactions improve your baseline"
   ]
  },
  {
   "cell_type": "markdown",
   "metadata": {},
   "source": [
    "Next, create all possible combinations of interactions, loop over them and add them to the baseline model one by one to see how they affect the $R^2$. We'll look at the 3 interactions which have the biggest effect on our $R^2$, so print out the top 3 combinations.\n",
    "\n",
    "You will create a `for` loop to loop through all the combinations of 2 predictors. You can use `combinations` from itertools to create a list of all the pairwise combinations. To find more info on how this is done, have a look [here](https://docs.python.org/2/library/itertools.html).\n",
    "\n",
    "Since there are so many different neighbourhoods we will exclude"
   ]
  },
  {
   "cell_type": "code",
   "execution_count": 43,
   "metadata": {},
   "outputs": [
    {
     "name": "stdout",
     "output_type": "stream",
     "text": [
      "0\n",
      "50\n",
      "100\n",
      "150\n",
      "200\n",
      "250\n",
      "300\n",
      "350\n",
      "400\n",
      "450\n",
      "500\n",
      "550\n",
      "600\n",
      "650\n",
      "700\n",
      "750\n",
      "800\n",
      "850\n",
      "900\n",
      "950\n",
      "1000\n",
      "1050\n"
     ]
    }
   ],
   "source": [
    "from itertools import combinations\n",
    "feat_combinations = combinations(X.columns, 2)\n",
    "interactions = []\n",
    "X_interact = X.copy()\n",
    "for i, (a, b) in enumerate(feat_combinations):\n",
    "    X_interact['interaction'] = X_interact[a] * X_interact[b]\n",
    "    score = np.mean(cross_val_score(regression, X_interact, y, scoring='r2', cv=crossvalidation))\n",
    "    if score > baseline:\n",
    "        interactions.append((a, b, round(score, 3)))\n",
    "    if i%50==0:\n",
    "        print(i)"
   ]
  },
  {
   "cell_type": "code",
   "execution_count": 56,
   "metadata": {},
   "outputs": [
    {
     "data": {
      "text/plain": [
       "[('LotArea', 'SaleType_ConLI', 0.777),\n",
       " ('LotArea', 'Neighborhood_Sawyer', 0.777),\n",
       " ('1stFlrSF', 'MSZoning_RL', 0.777),\n",
       " ('GrLivArea', 'SaleType_ConLw', 0.777),\n",
       " ('GrLivArea', 'Neighborhood_Timber', 0.777),\n",
       " ('BldgType_2fmCon', 'Neighborhood_BrkSide', 0.777),\n",
       " ('BldgType_2fmCon', 'Neighborhood_Edwards', 0.777),\n",
       " ('BldgType_Duplex', 'KitchenQual_Gd', 0.777),\n",
       " ('BldgType_Duplex', 'Neighborhood_NAmes', 0.777),\n",
       " ('BldgType_Duplex', 'Neighborhood_NWAmes', 0.777),\n",
       " ('BldgType_Twnhs', 'Street_Pave', 0.777),\n",
       " ('BldgType_Twnhs', 'Neighborhood_Blueste', 0.777),\n",
       " ('BldgType_Twnhs', 'Neighborhood_BrDale', 0.777),\n",
       " ('BldgType_Twnhs', 'Neighborhood_Mitchel', 0.777),\n",
       " ('BldgType_Twnhs', 'Neighborhood_NPkVill', 0.777),\n",
       " ('BldgType_TwnhsE', 'MSZoning_FV', 0.777),\n",
       " ('BldgType_TwnhsE', 'Street_Pave', 0.777),\n",
       " ('BldgType_TwnhsE', 'Neighborhood_Blueste', 0.777),\n",
       " ('BldgType_TwnhsE', 'Neighborhood_BrDale', 0.777),\n",
       " ('BldgType_TwnhsE', 'Neighborhood_Mitchel', 0.777),\n",
       " ('BldgType_TwnhsE', 'Neighborhood_NPkVill', 0.777),\n",
       " ('BldgType_TwnhsE', 'Neighborhood_Somerst', 0.777),\n",
       " ('KitchenQual_Fa', 'MSZoning_RM', 0.777),\n",
       " ('KitchenQual_Fa', 'Neighborhood_Sawyer', 0.777),\n",
       " ('KitchenQual_Gd', 'SaleType_Con', 0.777),\n",
       " ('KitchenQual_Gd', 'Street_Pave', 0.777),\n",
       " ('KitchenQual_Gd', 'Neighborhood_BrDale', 0.777),\n",
       " ('KitchenQual_Gd', 'Neighborhood_ClearCr', 0.777),\n",
       " ('KitchenQual_Gd', 'Neighborhood_NPkVill', 0.777),\n",
       " ('KitchenQual_Gd', 'Neighborhood_SawyerW', 0.777),\n",
       " ('KitchenQual_TA', 'Neighborhood_Blueste', 0.777),\n",
       " ('KitchenQual_TA', 'Neighborhood_BrDale', 0.777),\n",
       " ('KitchenQual_TA', 'Neighborhood_NPkVill', 0.777),\n",
       " ('KitchenQual_TA', 'Neighborhood_Sawyer', 0.777),\n",
       " ('KitchenQual_TA', 'Neighborhood_SawyerW', 0.777),\n",
       " ('SaleType_Con', 'Street_Pave', 0.777),\n",
       " ('SaleType_ConLD', 'Neighborhood_Edwards', 0.777),\n",
       " ('SaleType_ConLD', 'Neighborhood_OldTown', 0.777),\n",
       " ('SaleType_ConLI', 'Street_Pave', 0.777),\n",
       " ('SaleType_ConLw', 'Street_Pave', 0.777),\n",
       " ('SaleType_ConLw', 'Neighborhood_OldTown', 0.777),\n",
       " ('SaleType_New', 'MSZoning_RM', 0.777),\n",
       " ('SaleType_New', 'Street_Pave', 0.777),\n",
       " ('SaleType_Oth', 'Neighborhood_Mitchel', 0.777),\n",
       " ('SaleType_WD', 'Neighborhood_Blueste', 0.777),\n",
       " ('SaleType_WD', 'Neighborhood_BrDale', 0.777),\n",
       " ('SaleType_WD', 'Neighborhood_MeadowV', 0.777),\n",
       " ('SaleType_WD', 'Neighborhood_NAmes', 0.777),\n",
       " ('SaleType_WD', 'Neighborhood_NWAmes', 0.777),\n",
       " ('SaleType_WD', 'Neighborhood_NoRidge', 0.777),\n",
       " ('SaleType_WD', 'Neighborhood_SWISU', 0.777),\n",
       " ('MSZoning_FV', 'Street_Pave', 0.777),\n",
       " ('MSZoning_FV', 'Neighborhood_Somerst', 0.777),\n",
       " ('MSZoning_RH', 'Street_Pave', 0.777),\n",
       " ('MSZoning_RL', 'Neighborhood_ClearCr', 0.777),\n",
       " ('MSZoning_RL', 'Neighborhood_Edwards', 0.777),\n",
       " ('MSZoning_RL', 'Neighborhood_NPkVill', 0.777),\n",
       " ('MSZoning_RL', 'Neighborhood_NoRidge', 0.777),\n",
       " ('MSZoning_RL', 'Neighborhood_OldTown', 0.777),\n",
       " ('MSZoning_RL', 'Neighborhood_Somerst', 0.777),\n",
       " ('MSZoning_RL', 'Neighborhood_StoneBr', 0.777),\n",
       " ('MSZoning_RL', 'Neighborhood_Timber', 0.777),\n",
       " ('MSZoning_RL', 'Neighborhood_Veenker', 0.777),\n",
       " ('MSZoning_RM', 'Neighborhood_Blueste', 0.777),\n",
       " ('MSZoning_RM', 'Neighborhood_MeadowV', 0.777),\n",
       " ('MSZoning_RM', 'Neighborhood_NridgHt', 0.777),\n",
       " ('MSZoning_RM', 'Neighborhood_OldTown', 0.777),\n",
       " ('Street_Pave', 'Neighborhood_Blueste', 0.777),\n",
       " ('Street_Pave', 'Neighborhood_ClearCr', 0.777),\n",
       " ('Street_Pave', 'Neighborhood_CollgCr', 0.777),\n",
       " ('Street_Pave', 'Neighborhood_Crawfor', 0.777),\n",
       " ('Street_Pave', 'Neighborhood_MeadowV', 0.777),\n",
       " ('Street_Pave', 'Neighborhood_Mitchel', 0.777),\n",
       " ('Street_Pave', 'Neighborhood_NAmes', 0.777),\n",
       " ('Street_Pave', 'Neighborhood_NPkVill', 0.777),\n",
       " ('Street_Pave', 'Neighborhood_NoRidge', 0.777),\n",
       " ('Street_Pave', 'Neighborhood_NridgHt', 0.777),\n",
       " ('Street_Pave', 'Neighborhood_OldTown', 0.777),\n",
       " ('Street_Pave', 'Neighborhood_SWISU', 0.777),\n",
       " ('Street_Pave', 'Neighborhood_Sawyer', 0.777),\n",
       " ('Street_Pave', 'Neighborhood_StoneBr', 0.777),\n",
       " ('Street_Pave', 'Neighborhood_Veenker', 0.777),\n",
       " ('LotArea', 'SaleType_Con', 0.778),\n",
       " ('LotArea', 'SaleType_Oth', 0.778),\n",
       " ('LotArea', 'Street_Pave', 0.778),\n",
       " ('LotArea', 'Neighborhood_BrkSide', 0.778),\n",
       " ('LotArea', 'Neighborhood_Mitchel', 0.778),\n",
       " ('LotArea', 'Neighborhood_NoRidge', 0.778),\n",
       " ('LotArea', 'Neighborhood_OldTown', 0.778),\n",
       " ('LotArea', 'Neighborhood_SawyerW', 0.778),\n",
       " ('1stFlrSF', 'BldgType_2fmCon', 0.778),\n",
       " ('1stFlrSF', 'MSZoning_FV', 0.778),\n",
       " ('1stFlrSF', 'Neighborhood_SWISU', 0.778),\n",
       " ('1stFlrSF', 'Neighborhood_Sawyer', 0.778),\n",
       " ('1stFlrSF', 'Neighborhood_Somerst', 0.778),\n",
       " ('GrLivArea', 'KitchenQual_TA', 0.778),\n",
       " ('GrLivArea', 'SaleType_Con', 0.778),\n",
       " ('GrLivArea', 'MSZoning_FV', 0.778),\n",
       " ('GrLivArea', 'Neighborhood_Sawyer', 0.778),\n",
       " ('GrLivArea', 'Neighborhood_SawyerW', 0.778),\n",
       " ('GrLivArea', 'Neighborhood_Somerst', 0.778),\n",
       " ('GrLivArea', 'Neighborhood_Veenker', 0.778),\n",
       " ('BldgType_2fmCon', 'Street_Pave', 0.778),\n",
       " ('BldgType_2fmCon', 'Neighborhood_SWISU', 0.778),\n",
       " ('BldgType_2fmCon', 'Neighborhood_Timber', 0.778),\n",
       " ('BldgType_Duplex', 'MSZoning_RH', 0.778),\n",
       " ('BldgType_Duplex', 'Neighborhood_OldTown', 0.778),\n",
       " ('BldgType_Duplex', 'Neighborhood_Sawyer', 0.778),\n",
       " ('BldgType_Duplex', 'Neighborhood_SawyerW', 0.778),\n",
       " ('BldgType_Twnhs', 'KitchenQual_Gd', 0.778),\n",
       " ('BldgType_Twnhs', 'KitchenQual_TA', 0.778),\n",
       " ('BldgType_Twnhs', 'MSZoning_RL', 0.778),\n",
       " ('BldgType_Twnhs', 'MSZoning_RM', 0.778),\n",
       " ('BldgType_Twnhs', 'Neighborhood_NridgHt', 0.778),\n",
       " ('BldgType_TwnhsE', 'KitchenQual_TA', 0.778),\n",
       " ('BldgType_TwnhsE', 'SaleType_Con', 0.778),\n",
       " ('BldgType_TwnhsE', 'MSZoning_RH', 0.778),\n",
       " ('BldgType_TwnhsE', 'MSZoning_RM', 0.778),\n",
       " ('BldgType_TwnhsE', 'Neighborhood_Edwards', 0.778),\n",
       " ('BldgType_TwnhsE', 'Neighborhood_NAmes', 0.778),\n",
       " ('KitchenQual_Fa', 'Neighborhood_SWISU', 0.778),\n",
       " ('KitchenQual_Gd', 'MSZoning_FV', 0.778),\n",
       " ('KitchenQual_Gd', 'Neighborhood_CollgCr', 0.778),\n",
       " ('KitchenQual_Gd', 'Neighborhood_Crawfor', 0.778),\n",
       " ('KitchenQual_Gd', 'Neighborhood_NridgHt', 0.778),\n",
       " ('KitchenQual_Gd', 'Neighborhood_Sawyer', 0.778),\n",
       " ('KitchenQual_Gd', 'Neighborhood_Veenker', 0.778),\n",
       " ('KitchenQual_TA', 'MSZoning_FV', 0.778),\n",
       " ('KitchenQual_TA', 'Neighborhood_CollgCr', 0.778),\n",
       " ('KitchenQual_TA', 'Neighborhood_Crawfor', 0.778),\n",
       " ('KitchenQual_TA', 'Neighborhood_Edwards', 0.778),\n",
       " ('KitchenQual_TA', 'Neighborhood_NAmes', 0.778),\n",
       " ('KitchenQual_TA', 'Neighborhood_Somerst', 0.778),\n",
       " ('KitchenQual_TA', 'Neighborhood_Veenker', 0.778),\n",
       " ('SaleType_Con', 'MSZoning_RL', 0.778),\n",
       " ('SaleType_Con', 'Neighborhood_Veenker', 0.778),\n",
       " ('SaleType_ConLI', 'Neighborhood_NridgHt', 0.778),\n",
       " ('SaleType_New', 'Neighborhood_Crawfor', 0.778),\n",
       " ('SaleType_New', 'Neighborhood_NridgHt', 0.778),\n",
       " ('SaleType_New', 'Neighborhood_Somerst', 0.778),\n",
       " ('SaleType_WD', 'Neighborhood_Mitchel', 0.778),\n",
       " ('SaleType_WD', 'Neighborhood_Veenker', 0.778),\n",
       " ('MSZoning_RH', 'Neighborhood_NAmes', 0.778),\n",
       " ('MSZoning_RH', 'Neighborhood_SWISU', 0.778),\n",
       " ('MSZoning_RH', 'Neighborhood_SawyerW', 0.778),\n",
       " ('MSZoning_RL', 'Neighborhood_BrkSide', 0.778),\n",
       " ('MSZoning_RL', 'Neighborhood_Crawfor', 0.778),\n",
       " ('MSZoning_RL', 'Neighborhood_Mitchel', 0.778),\n",
       " ('MSZoning_RL', 'Neighborhood_NAmes', 0.778),\n",
       " ('MSZoning_RL', 'Neighborhood_NridgHt', 0.778),\n",
       " ('MSZoning_RL', 'Neighborhood_SWISU', 0.778),\n",
       " ('MSZoning_RL', 'Neighborhood_Sawyer', 0.778),\n",
       " ('MSZoning_RL', 'Neighborhood_SawyerW', 0.778),\n",
       " ('MSZoning_RM', 'Neighborhood_BrkSide', 0.778),\n",
       " ('MSZoning_RM', 'Neighborhood_Edwards', 0.778),\n",
       " ('MSZoning_RM', 'Neighborhood_Mitchel', 0.778),\n",
       " ('MSZoning_RM', 'Neighborhood_Sawyer', 0.778),\n",
       " ('Street_Pave', 'Neighborhood_Edwards', 0.778),\n",
       " ('Street_Pave', 'Neighborhood_Timber', 0.778),\n",
       " ('LotArea', 'BldgType_2fmCon', 0.779),\n",
       " ('1stFlrSF', 'BldgType_Duplex', 0.779),\n",
       " ('1stFlrSF', 'SaleType_Con', 0.779),\n",
       " ('GrLivArea', 'Neighborhood_CollgCr', 0.779),\n",
       " ('BldgType_Duplex', 'Street_Pave', 0.779),\n",
       " ('BldgType_Duplex', 'Neighborhood_Edwards', 0.779),\n",
       " ('BldgType_TwnhsE', 'SaleType_WD', 0.779),\n",
       " ('BldgType_TwnhsE', 'Neighborhood_NridgHt', 0.779),\n",
       " ('SaleType_WD', 'Neighborhood_NridgHt', 0.779),\n",
       " ('SaleType_WD', 'Neighborhood_StoneBr', 0.779),\n",
       " ('GrLivArea', 'BldgType_Duplex', 0.78),\n",
       " ('GrLivArea', 'Neighborhood_StoneBr', 0.78),\n",
       " ('BldgType_TwnhsE', 'MSZoning_RL', 0.78),\n",
       " ('BldgType_TwnhsE', 'Neighborhood_Crawfor', 0.78),\n",
       " ('KitchenQual_Gd', 'Neighborhood_NoRidge', 0.78),\n",
       " ('SaleType_WD', 'Neighborhood_Edwards', 0.78),\n",
       " ('MSZoning_RM', 'Neighborhood_Crawfor', 0.78),\n",
       " ('1stFlrSF', 'Neighborhood_StoneBr', 0.781),\n",
       " ('1stFlrSF', 'Neighborhood_Veenker', 0.781),\n",
       " ('SaleType_New', 'Neighborhood_StoneBr', 0.781),\n",
       " ('1stFlrSF', 'KitchenQual_Gd', 0.782),\n",
       " ('GrLivArea', 'KitchenQual_Gd', 0.782),\n",
       " ('BldgType_TwnhsE', 'Neighborhood_StoneBr', 0.782),\n",
       " ('1stFlrSF', 'Neighborhood_NoRidge', 0.783),\n",
       " ('GrLivArea', 'Neighborhood_NridgHt', 0.783),\n",
       " ('SaleType_New', 'Neighborhood_Edwards', 0.783),\n",
       " ('LotArea', 'Neighborhood_NridgHt', 0.784),\n",
       " ('1stFlrSF', 'Neighborhood_NridgHt', 0.785),\n",
       " ('LotArea', 'SaleType_WD', 0.791),\n",
       " ('LotArea', 'SaleType_New', 0.793),\n",
       " ('GrLivArea', 'Neighborhood_NoRidge', 0.793),\n",
       " ('1stFlrSF', 'Neighborhood_Edwards', 0.803),\n",
       " ('GrLivArea', 'Neighborhood_Edwards', 0.808),\n",
       " ('LotArea', 'Neighborhood_Edwards', 0.809)]"
      ]
     },
     "execution_count": 56,
     "metadata": {},
     "output_type": "execute_result"
    }
   ],
   "source": [
    "# code to find top interactions by R^2 value here\n",
    "sorted(interactions, key=lambda interact: interact[2])"
   ]
  },
  {
   "cell_type": "markdown",
   "metadata": {},
   "source": [
    "It looks like the top interactions involve the Neighborhood_Edwards feature so lets add the interaction between LotArea and Edwards to our model.\n",
    "\n",
    "We can interpret this feature as the relationship between LotArea and SalePrice when the house is in Edwards or not."
   ]
  },
  {
   "cell_type": "markdown",
   "metadata": {},
   "source": [
    "## Visualize the Interaction\n",
    "\n",
    "Separate all houses that are located in Edwards and those that are not. Run a linear regression on each population against `SalePrice`. Visualize the regression line and data points with price on the y axis and LotArea on the x axis."
   ]
  },
  {
   "cell_type": "code",
   "execution_count": 84,
   "metadata": {},
   "outputs": [
    {
     "name": "stdout",
     "output_type": "stream",
     "text": [
      "[0.11975818]\n",
      "[0.31970254]\n"
     ]
    },
    {
     "data": {
      "text/plain": [
       "<matplotlib.legend.Legend at 0x7fef8171cdd8>"
      ]
     },
     "execution_count": 84,
     "metadata": {},
     "output_type": "execute_result"
    },
    {
     "data": {
      "image/png": "[encoded data removed]",
      "text/plain": [
       "<Figure size 1296x576 with 1 Axes>"
      ]
     },
     "metadata": {
      "needs_background": "light"
     },
     "output_type": "display_data"
    }
   ],
   "source": [
    "# Visualization code here\n",
    "fig, ax = plt.subplots(figsize=(18,8))\n",
    "edwards = preprocessed.loc[preprocessed['Neighborhood_Edwards'] == 1, ['LotArea', 'SalePrice']]\n",
    "linreg1 = LinearRegression()\n",
    "linreg1.fit(np.log(edwards[['LotArea']]), np.log(edwards['SalePrice']))\n",
    "pred1 = linreg1.predict(np.log(edwards[['LotArea']]))\n",
    "ax.scatter(np.log(edwards[['LotArea']]), np.log(edwards['SalePrice']), alpha=0.3)\n",
    "print(linreg1.coef_)\n",
    "\n",
    "not_edwards = preprocessed.loc[preprocessed['Neighborhood_Edwards'] == 0, ['LotArea', 'SalePrice']]\n",
    "linreg2 = LinearRegression()\n",
    "linreg2.fit(np.log(not_edwards[['LotArea']]), np.log(not_edwards['SalePrice']))\n",
    "pred2 = linreg2.predict(np.log(not_edwards[['LotArea']]))\n",
    "ax.scatter(np.log(not_edwards[['LotArea']]), np.log(not_edwards['SalePrice']), alpha=0.3)\n",
    "print(linreg2.coef_)\n",
    "\n",
    "plt.plot(np.linspace(6, 12), linreg1.predict(np.linspace(6, 12).reshape(-1, 1)), label='Edwards')\n",
    "plt.plot(np.linspace(6, 12), linreg2.predict(np.linspace(6, 12).reshape(-1, 1)), label='Not Edwards')\n",
    "plt.legend()"
   ]
  },
  {
   "cell_type": "markdown",
   "metadata": {},
   "source": [
    "## Build a final model with interactions"
   ]
  },
  {
   "cell_type": "markdown",
   "metadata": {},
   "source": [
    "Use 10-fold cross-validation to build a model using the above interaction. "
   ]
  },
  {
   "cell_type": "code",
   "execution_count": 85,
   "metadata": {},
   "outputs": [
    {
     "data": {
      "text/plain": [
       "0.8093314939295162"
      ]
     },
     "execution_count": 85,
     "metadata": {},
     "output_type": "execute_result"
    }
   ],
   "source": [
    "# code here\n",
    "regression = LinearRegression()\n",
    "crossvalidation = KFold(n_splits=10, shuffle=True, random_state=1)\n",
    "\n",
    "X_interact_2 = X.copy()\n",
    "X_interact_2['Edwards*LotArea'] = X_interact_2['Neighborhood_Edwards'] * X_interact_2['LotArea']\n",
    "\n",
    "X_final = np.mean(cross_val_score(regression, X_interact_2, y, scoring='r2', cv=crossvalidation))\n",
    "X_final"
   ]
  },
  {
   "cell_type": "markdown",
   "metadata": {},
   "source": [
    "Our $R^2$ has increased considerably! Let's have a look in `statsmodels` to see if this interactions are significant."
   ]
  },
  {
   "cell_type": "code",
   "execution_count": 86,
   "metadata": {},
   "outputs": [
    {
     "name": "stderr",
     "output_type": "stream",
     "text": [
      "/opt/anaconda3/envs/learn-env/lib/python3.6/site-packages/statsmodels/tools/_testing.py:19: FutureWarning: pandas.util.testing is deprecated. Use the functions in the public API at pandas.testing instead.\n",
      "  import pandas.util.testing as tm\n"
     ]
    },
    {
     "data": {
      "text/html": [
       "<table class=\"simpletable\">\n",
       "<caption>OLS Regression Results</caption>\n",
       "<tr>\n",
       "  <th>Dep. Variable:</th>        <td>SalePrice</td>    <th>  R-squared:         </th> <td>   0.835</td> \n",
       "</tr>\n",
       "<tr>\n",
       "  <th>Model:</th>                   <td>OLS</td>       <th>  Adj. R-squared:    </th> <td>   0.829</td> \n",
       "</tr>\n",
       "<tr>\n",
       "  <th>Method:</th>             <td>Least Squares</td>  <th>  F-statistic:       </th> <td>   148.6</td> \n",
       "</tr>\n",
       "<tr>\n",
       "  <th>Date:</th>             <td>Wed, 17 Mar 2021</td> <th>  Prob (F-statistic):</th>  <td>  0.00</td>  \n",
       "</tr>\n",
       "<tr>\n",
       "  <th>Time:</th>                 <td>11:42:02</td>     <th>  Log-Likelihood:    </th> <td> -17229.</td> \n",
       "</tr>\n",
       "<tr>\n",
       "  <th>No. Observations:</th>      <td>  1460</td>      <th>  AIC:               </th> <td>3.456e+04</td>\n",
       "</tr>\n",
       "<tr>\n",
       "  <th>Df Residuals:</th>          <td>  1411</td>      <th>  BIC:               </th> <td>3.482e+04</td>\n",
       "</tr>\n",
       "<tr>\n",
       "  <th>Df Model:</th>              <td>    48</td>      <th>                     </th>     <td> </td>    \n",
       "</tr>\n",
       "<tr>\n",
       "  <th>Covariance Type:</th>      <td>nonrobust</td>    <th>                     </th>     <td> </td>    \n",
       "</tr>\n",
       "</table>\n",
       "<table class=\"simpletable\">\n",
       "<tr>\n",
       "            <td></td>              <th>coef</th>     <th>std err</th>      <th>t</th>      <th>P>|t|</th>  <th>[0.025</th>    <th>0.975]</th>  \n",
       "</tr>\n",
       "<tr>\n",
       "  <th>const</th>                <td> 8.786e+04</td> <td> 2.21e+04</td> <td>    3.981</td> <td> 0.000</td> <td> 4.46e+04</td> <td> 1.31e+05</td>\n",
       "</tr>\n",
       "<tr>\n",
       "  <th>LotArea</th>              <td>    0.6108</td> <td>    0.103</td> <td>    5.916</td> <td> 0.000</td> <td>    0.408</td> <td>    0.813</td>\n",
       "</tr>\n",
       "<tr>\n",
       "  <th>1stFlrSF</th>             <td>   35.0664</td> <td>    3.288</td> <td>   10.664</td> <td> 0.000</td> <td>   28.616</td> <td>   41.517</td>\n",
       "</tr>\n",
       "<tr>\n",
       "  <th>GrLivArea</th>            <td>   58.1426</td> <td>    2.405</td> <td>   24.171</td> <td> 0.000</td> <td>   53.424</td> <td>   62.861</td>\n",
       "</tr>\n",
       "<tr>\n",
       "  <th>BldgType_2fmCon</th>      <td> -1.68e+04</td> <td> 6356.288</td> <td>   -2.644</td> <td> 0.008</td> <td>-2.93e+04</td> <td>-4335.365</td>\n",
       "</tr>\n",
       "<tr>\n",
       "  <th>BldgType_Duplex</th>      <td>-3.286e+04</td> <td> 4942.627</td> <td>   -6.649</td> <td> 0.000</td> <td>-4.26e+04</td> <td>-2.32e+04</td>\n",
       "</tr>\n",
       "<tr>\n",
       "  <th>BldgType_Twnhs</th>       <td>-3.628e+04</td> <td> 6923.682</td> <td>   -5.240</td> <td> 0.000</td> <td>-4.99e+04</td> <td>-2.27e+04</td>\n",
       "</tr>\n",
       "<tr>\n",
       "  <th>BldgType_TwnhsE</th>      <td>-2.334e+04</td> <td> 4546.417</td> <td>   -5.134</td> <td> 0.000</td> <td>-3.23e+04</td> <td>-1.44e+04</td>\n",
       "</tr>\n",
       "<tr>\n",
       "  <th>KitchenQual_Fa</th>       <td>-8.074e+04</td> <td> 7132.327</td> <td>  -11.320</td> <td> 0.000</td> <td>-9.47e+04</td> <td>-6.67e+04</td>\n",
       "</tr>\n",
       "<tr>\n",
       "  <th>KitchenQual_Gd</th>       <td> -5.41e+04</td> <td> 4088.126</td> <td>  -13.233</td> <td> 0.000</td> <td>-6.21e+04</td> <td>-4.61e+04</td>\n",
       "</tr>\n",
       "<tr>\n",
       "  <th>KitchenQual_TA</th>       <td>-6.998e+04</td> <td> 4519.771</td> <td>  -15.482</td> <td> 0.000</td> <td>-7.88e+04</td> <td>-6.11e+04</td>\n",
       "</tr>\n",
       "<tr>\n",
       "  <th>SaleType_CWD</th>         <td> 2.125e+04</td> <td> 1.73e+04</td> <td>    1.227</td> <td> 0.220</td> <td>-1.27e+04</td> <td> 5.52e+04</td>\n",
       "</tr>\n",
       "<tr>\n",
       "  <th>SaleType_Con</th>         <td> 6.292e+04</td> <td> 2.45e+04</td> <td>    2.572</td> <td> 0.010</td> <td> 1.49e+04</td> <td> 1.11e+05</td>\n",
       "</tr>\n",
       "<tr>\n",
       "  <th>SaleType_ConLD</th>       <td> 1.643e+04</td> <td> 1.25e+04</td> <td>    1.314</td> <td> 0.189</td> <td>-8097.652</td> <td> 4.09e+04</td>\n",
       "</tr>\n",
       "<tr>\n",
       "  <th>SaleType_ConLI</th>       <td> 1.705e+04</td> <td> 1.57e+04</td> <td>    1.084</td> <td> 0.278</td> <td>-1.38e+04</td> <td> 4.79e+04</td>\n",
       "</tr>\n",
       "<tr>\n",
       "  <th>SaleType_ConLw</th>       <td> 1.092e+04</td> <td> 1.57e+04</td> <td>    0.694</td> <td> 0.488</td> <td>   -2e+04</td> <td> 4.18e+04</td>\n",
       "</tr>\n",
       "<tr>\n",
       "  <th>SaleType_New</th>         <td> 3.227e+04</td> <td> 6355.612</td> <td>    5.078</td> <td> 0.000</td> <td> 1.98e+04</td> <td> 4.47e+04</td>\n",
       "</tr>\n",
       "<tr>\n",
       "  <th>SaleType_Oth</th>         <td> 8711.8997</td> <td> 1.98e+04</td> <td>    0.441</td> <td> 0.659</td> <td>   -3e+04</td> <td> 4.75e+04</td>\n",
       "</tr>\n",
       "<tr>\n",
       "  <th>SaleType_WD</th>          <td> 1.269e+04</td> <td> 5263.624</td> <td>    2.410</td> <td> 0.016</td> <td> 2361.401</td> <td>  2.3e+04</td>\n",
       "</tr>\n",
       "<tr>\n",
       "  <th>MSZoning_FV</th>          <td> 3.798e+04</td> <td> 1.55e+04</td> <td>    2.444</td> <td> 0.015</td> <td> 7495.119</td> <td> 6.85e+04</td>\n",
       "</tr>\n",
       "<tr>\n",
       "  <th>MSZoning_RH</th>          <td> 1.805e+04</td> <td> 1.56e+04</td> <td>    1.154</td> <td> 0.249</td> <td>-1.26e+04</td> <td> 4.87e+04</td>\n",
       "</tr>\n",
       "<tr>\n",
       "  <th>MSZoning_RL</th>          <td> 2.925e+04</td> <td>  1.3e+04</td> <td>    2.241</td> <td> 0.025</td> <td> 3651.729</td> <td> 5.48e+04</td>\n",
       "</tr>\n",
       "<tr>\n",
       "  <th>MSZoning_RM</th>          <td> 3.397e+04</td> <td> 1.22e+04</td> <td>    2.781</td> <td> 0.005</td> <td>    1e+04</td> <td> 5.79e+04</td>\n",
       "</tr>\n",
       "<tr>\n",
       "  <th>Street_Pave</th>          <td>-3247.9560</td> <td> 1.46e+04</td> <td>   -0.222</td> <td> 0.824</td> <td> -3.2e+04</td> <td> 2.55e+04</td>\n",
       "</tr>\n",
       "<tr>\n",
       "  <th>Neighborhood_Blueste</th> <td> 8014.5330</td> <td> 2.55e+04</td> <td>    0.314</td> <td> 0.754</td> <td>-4.21e+04</td> <td> 5.81e+04</td>\n",
       "</tr>\n",
       "<tr>\n",
       "  <th>Neighborhood_BrDale</th>  <td> -1.12e+04</td> <td> 1.36e+04</td> <td>   -0.821</td> <td> 0.412</td> <td> -3.8e+04</td> <td> 1.56e+04</td>\n",
       "</tr>\n",
       "<tr>\n",
       "  <th>Neighborhood_BrkSide</th> <td>-4.136e+04</td> <td> 1.09e+04</td> <td>   -3.778</td> <td> 0.000</td> <td>-6.28e+04</td> <td>-1.99e+04</td>\n",
       "</tr>\n",
       "<tr>\n",
       "  <th>Neighborhood_ClearCr</th> <td>-2.357e+04</td> <td> 1.13e+04</td> <td>   -2.084</td> <td> 0.037</td> <td>-4.57e+04</td> <td>-1381.560</td>\n",
       "</tr>\n",
       "<tr>\n",
       "  <th>Neighborhood_CollgCr</th> <td>-7958.2863</td> <td> 9382.255</td> <td>   -0.848</td> <td> 0.396</td> <td>-2.64e+04</td> <td> 1.04e+04</td>\n",
       "</tr>\n",
       "<tr>\n",
       "  <th>Neighborhood_Crawfor</th> <td>-8097.9531</td> <td> 1.02e+04</td> <td>   -0.794</td> <td> 0.427</td> <td>-2.81e+04</td> <td> 1.19e+04</td>\n",
       "</tr>\n",
       "<tr>\n",
       "  <th>Neighborhood_Edwards</th> <td> 2.208e+04</td> <td> 1.13e+04</td> <td>    1.957</td> <td> 0.051</td> <td>  -50.592</td> <td> 4.42e+04</td>\n",
       "</tr>\n",
       "<tr>\n",
       "  <th>Neighborhood_Gilbert</th> <td>-1.169e+04</td> <td> 9919.897</td> <td>   -1.179</td> <td> 0.239</td> <td>-3.12e+04</td> <td> 7767.574</td>\n",
       "</tr>\n",
       "<tr>\n",
       "  <th>Neighborhood_IDOTRR</th>  <td>-5.194e+04</td> <td> 1.27e+04</td> <td>   -4.082</td> <td> 0.000</td> <td>-7.69e+04</td> <td> -2.7e+04</td>\n",
       "</tr>\n",
       "<tr>\n",
       "  <th>Neighborhood_MeadowV</th> <td>-2.748e+04</td> <td> 1.28e+04</td> <td>   -2.155</td> <td> 0.031</td> <td>-5.25e+04</td> <td>-2470.148</td>\n",
       "</tr>\n",
       "<tr>\n",
       "  <th>Neighborhood_Mitchel</th> <td>-2.017e+04</td> <td> 1.03e+04</td> <td>   -1.951</td> <td> 0.051</td> <td>-4.04e+04</td> <td>  106.151</td>\n",
       "</tr>\n",
       "<tr>\n",
       "  <th>Neighborhood_NAmes</th>   <td>-3.462e+04</td> <td> 9504.330</td> <td>   -3.642</td> <td> 0.000</td> <td>-5.33e+04</td> <td> -1.6e+04</td>\n",
       "</tr>\n",
       "<tr>\n",
       "  <th>Neighborhood_NPkVill</th> <td> 6322.8555</td> <td> 1.39e+04</td> <td>    0.454</td> <td> 0.650</td> <td> -2.1e+04</td> <td> 3.37e+04</td>\n",
       "</tr>\n",
       "<tr>\n",
       "  <th>Neighborhood_NWAmes</th>  <td>-2.656e+04</td> <td> 9962.024</td> <td>   -2.666</td> <td> 0.008</td> <td>-4.61e+04</td> <td>-7021.200</td>\n",
       "</tr>\n",
       "<tr>\n",
       "  <th>Neighborhood_NoRidge</th> <td> 5.032e+04</td> <td> 1.06e+04</td> <td>    4.764</td> <td> 0.000</td> <td> 2.96e+04</td> <td>  7.1e+04</td>\n",
       "</tr>\n",
       "<tr>\n",
       "  <th>Neighborhood_NridgHt</th> <td> 4.259e+04</td> <td> 9461.697</td> <td>    4.501</td> <td> 0.000</td> <td>  2.4e+04</td> <td> 6.12e+04</td>\n",
       "</tr>\n",
       "<tr>\n",
       "  <th>Neighborhood_OldTown</th> <td>    -6e+04</td> <td> 1.11e+04</td> <td>   -5.385</td> <td> 0.000</td> <td>-8.18e+04</td> <td>-3.81e+04</td>\n",
       "</tr>\n",
       "<tr>\n",
       "  <th>Neighborhood_SWISU</th>   <td>-5.832e+04</td> <td> 1.16e+04</td> <td>   -5.039</td> <td> 0.000</td> <td> -8.1e+04</td> <td>-3.56e+04</td>\n",
       "</tr>\n",
       "<tr>\n",
       "  <th>Neighborhood_Sawyer</th>  <td>-3.537e+04</td> <td> 1.01e+04</td> <td>   -3.512</td> <td> 0.000</td> <td>-5.51e+04</td> <td>-1.56e+04</td>\n",
       "</tr>\n",
       "<tr>\n",
       "  <th>Neighborhood_SawyerW</th> <td>-1.541e+04</td> <td> 9902.677</td> <td>   -1.556</td> <td> 0.120</td> <td>-3.48e+04</td> <td> 4012.222</td>\n",
       "</tr>\n",
       "<tr>\n",
       "  <th>Neighborhood_Somerst</th> <td> 4056.7246</td> <td> 1.15e+04</td> <td>    0.353</td> <td> 0.724</td> <td>-1.85e+04</td> <td> 2.66e+04</td>\n",
       "</tr>\n",
       "<tr>\n",
       "  <th>Neighborhood_StoneBr</th> <td> 5.395e+04</td> <td> 1.06e+04</td> <td>    5.100</td> <td> 0.000</td> <td> 3.32e+04</td> <td> 7.47e+04</td>\n",
       "</tr>\n",
       "<tr>\n",
       "  <th>Neighborhood_Timber</th>  <td>-3299.9762</td> <td> 1.06e+04</td> <td>   -0.312</td> <td> 0.755</td> <td>-2.41e+04</td> <td> 1.75e+04</td>\n",
       "</tr>\n",
       "<tr>\n",
       "  <th>Neighborhood_Veenker</th> <td> 1.552e+04</td> <td> 1.34e+04</td> <td>    1.163</td> <td> 0.245</td> <td>-1.07e+04</td> <td> 4.17e+04</td>\n",
       "</tr>\n",
       "<tr>\n",
       "  <th>Edwards*LotArea</th>      <td>   -7.1552</td> <td>    0.513</td> <td>  -13.959</td> <td> 0.000</td> <td>   -8.161</td> <td>   -6.150</td>\n",
       "</tr>\n",
       "</table>\n",
       "<table class=\"simpletable\">\n",
       "<tr>\n",
       "  <th>Omnibus:</th>       <td>381.039</td> <th>  Durbin-Watson:     </th> <td>   1.945</td>\n",
       "</tr>\n",
       "<tr>\n",
       "  <th>Prob(Omnibus):</th> <td> 0.000</td>  <th>  Jarque-Bera (JB):  </th> <td>3465.080</td>\n",
       "</tr>\n",
       "<tr>\n",
       "  <th>Skew:</th>          <td> 0.947</td>  <th>  Prob(JB):          </th> <td>    0.00</td>\n",
       "</tr>\n",
       "<tr>\n",
       "  <th>Kurtosis:</th>      <td>10.306</td>  <th>  Cond. No.          </th> <td>7.94e+05</td>\n",
       "</tr>\n",
       "</table><br/><br/>Warnings:<br/>[1] Standard Errors assume that the covariance matrix of the errors is correctly specified.<br/>[2] The condition number is large, 7.94e+05. This might indicate that there are<br/>strong multicollinearity or other numerical problems."
      ],
      "text/plain": [
       "<class 'statsmodels.iolib.summary.Summary'>\n",
       "\"\"\"\n",
       "                            OLS Regression Results                            \n",
       "==============================================================================\n",
       "Dep. Variable:              SalePrice   R-squared:                       0.835\n",
       "Model:                            OLS   Adj. R-squared:                  0.829\n",
       "Method:                 Least Squares   F-statistic:                     148.6\n",
       "Date:                Wed, 17 Mar 2021   Prob (F-statistic):               0.00\n",
       "Time:                        11:42:02   Log-Likelihood:                -17229.\n",
       "No. Observations:                1460   AIC:                         3.456e+04\n",
       "Df Residuals:                    1411   BIC:                         3.482e+04\n",
       "Df Model:                          48                                         \n",
       "Covariance Type:            nonrobust                                         \n",
       "========================================================================================\n",
       "                           coef    std err          t      P>|t|      [0.025      0.975]\n",
       "----------------------------------------------------------------------------------------\n",
       "const                 8.786e+04   2.21e+04      3.981      0.000    4.46e+04    1.31e+05\n",
       "LotArea                  0.6108      0.103      5.916      0.000       0.408       0.813\n",
       "1stFlrSF                35.0664      3.288     10.664      0.000      28.616      41.517\n",
       "GrLivArea               58.1426      2.405     24.171      0.000      53.424      62.861\n",
       "BldgType_2fmCon       -1.68e+04   6356.288     -2.644      0.008   -2.93e+04   -4335.365\n",
       "BldgType_Duplex      -3.286e+04   4942.627     -6.649      0.000   -4.26e+04   -2.32e+04\n",
       "BldgType_Twnhs       -3.628e+04   6923.682     -5.240      0.000   -4.99e+04   -2.27e+04\n",
       "BldgType_TwnhsE      -2.334e+04   4546.417     -5.134      0.000   -3.23e+04   -1.44e+04\n",
       "KitchenQual_Fa       -8.074e+04   7132.327    -11.320      0.000   -9.47e+04   -6.67e+04\n",
       "KitchenQual_Gd        -5.41e+04   4088.126    -13.233      0.000   -6.21e+04   -4.61e+04\n",
       "KitchenQual_TA       -6.998e+04   4519.771    -15.482      0.000   -7.88e+04   -6.11e+04\n",
       "SaleType_CWD          2.125e+04   1.73e+04      1.227      0.220   -1.27e+04    5.52e+04\n",
       "SaleType_Con          6.292e+04   2.45e+04      2.572      0.010    1.49e+04    1.11e+05\n",
       "SaleType_ConLD        1.643e+04   1.25e+04      1.314      0.189   -8097.652    4.09e+04\n",
       "SaleType_ConLI        1.705e+04   1.57e+04      1.084      0.278   -1.38e+04    4.79e+04\n",
       "SaleType_ConLw        1.092e+04   1.57e+04      0.694      0.488      -2e+04    4.18e+04\n",
       "SaleType_New          3.227e+04   6355.612      5.078      0.000    1.98e+04    4.47e+04\n",
       "SaleType_Oth          8711.8997   1.98e+04      0.441      0.659      -3e+04    4.75e+04\n",
       "SaleType_WD           1.269e+04   5263.624      2.410      0.016    2361.401     2.3e+04\n",
       "MSZoning_FV           3.798e+04   1.55e+04      2.444      0.015    7495.119    6.85e+04\n",
       "MSZoning_RH           1.805e+04   1.56e+04      1.154      0.249   -1.26e+04    4.87e+04\n",
       "MSZoning_RL           2.925e+04    1.3e+04      2.241      0.025    3651.729    5.48e+04\n",
       "MSZoning_RM           3.397e+04   1.22e+04      2.781      0.005       1e+04    5.79e+04\n",
       "Street_Pave          -3247.9560   1.46e+04     -0.222      0.824    -3.2e+04    2.55e+04\n",
       "Neighborhood_Blueste  8014.5330   2.55e+04      0.314      0.754   -4.21e+04    5.81e+04\n",
       "Neighborhood_BrDale   -1.12e+04   1.36e+04     -0.821      0.412    -3.8e+04    1.56e+04\n",
       "Neighborhood_BrkSide -4.136e+04   1.09e+04     -3.778      0.000   -6.28e+04   -1.99e+04\n",
       "Neighborhood_ClearCr -2.357e+04   1.13e+04     -2.084      0.037   -4.57e+04   -1381.560\n",
       "Neighborhood_CollgCr -7958.2863   9382.255     -0.848      0.396   -2.64e+04    1.04e+04\n",
       "Neighborhood_Crawfor -8097.9531   1.02e+04     -0.794      0.427   -2.81e+04    1.19e+04\n",
       "Neighborhood_Edwards  2.208e+04   1.13e+04      1.957      0.051     -50.592    4.42e+04\n",
       "Neighborhood_Gilbert -1.169e+04   9919.897     -1.179      0.239   -3.12e+04    7767.574\n",
       "Neighborhood_IDOTRR  -5.194e+04   1.27e+04     -4.082      0.000   -7.69e+04    -2.7e+04\n",
       "Neighborhood_MeadowV -2.748e+04   1.28e+04     -2.155      0.031   -5.25e+04   -2470.148\n",
       "Neighborhood_Mitchel -2.017e+04   1.03e+04     -1.951      0.051   -4.04e+04     106.151\n",
       "Neighborhood_NAmes   -3.462e+04   9504.330     -3.642      0.000   -5.33e+04    -1.6e+04\n",
       "Neighborhood_NPkVill  6322.8555   1.39e+04      0.454      0.650    -2.1e+04    3.37e+04\n",
       "Neighborhood_NWAmes  -2.656e+04   9962.024     -2.666      0.008   -4.61e+04   -7021.200\n",
       "Neighborhood_NoRidge  5.032e+04   1.06e+04      4.764      0.000    2.96e+04     7.1e+04\n",
       "Neighborhood_NridgHt  4.259e+04   9461.697      4.501      0.000     2.4e+04    6.12e+04\n",
       "Neighborhood_OldTown     -6e+04   1.11e+04     -5.385      0.000   -8.18e+04   -3.81e+04\n",
       "Neighborhood_SWISU   -5.832e+04   1.16e+04     -5.039      0.000    -8.1e+04   -3.56e+04\n",
       "Neighborhood_Sawyer  -3.537e+04   1.01e+04     -3.512      0.000   -5.51e+04   -1.56e+04\n",
       "Neighborhood_SawyerW -1.541e+04   9902.677     -1.556      0.120   -3.48e+04    4012.222\n",
       "Neighborhood_Somerst  4056.7246   1.15e+04      0.353      0.724   -1.85e+04    2.66e+04\n",
       "Neighborhood_StoneBr  5.395e+04   1.06e+04      5.100      0.000    3.32e+04    7.47e+04\n",
       "Neighborhood_Timber  -3299.9762   1.06e+04     -0.312      0.755   -2.41e+04    1.75e+04\n",
       "Neighborhood_Veenker  1.552e+04   1.34e+04      1.163      0.245   -1.07e+04    4.17e+04\n",
       "Edwards*LotArea         -7.1552      0.513    -13.959      0.000      -8.161      -6.150\n",
       "==============================================================================\n",
       "Omnibus:                      381.039   Durbin-Watson:                   1.945\n",
       "Prob(Omnibus):                  0.000   Jarque-Bera (JB):             3465.080\n",
       "Skew:                           0.947   Prob(JB):                         0.00\n",
       "Kurtosis:                      10.306   Cond. No.                     7.94e+05\n",
       "==============================================================================\n",
       "\n",
       "Warnings:\n",
       "[1] Standard Errors assume that the covariance matrix of the errors is correctly specified.\n",
       "[2] The condition number is large, 7.94e+05. This might indicate that there are\n",
       "strong multicollinearity or other numerical problems.\n",
       "\"\"\""
      ]
     },
     "execution_count": 86,
     "metadata": {},
     "output_type": "execute_result"
    }
   ],
   "source": [
    "# code here\n",
    "import statsmodels.api as sm\n",
    "X_interact_2 = sm.add_constant(X_interact_2)\n",
    "model = sm.OLS(y,X_interact_2)\n",
    "results = model.fit()\n",
    "\n",
    "results.summary()"
   ]
  },
  {
   "cell_type": "markdown",
   "metadata": {},
   "source": [
    "What is your conclusion here?"
   ]
  },
  {
   "cell_type": "code",
   "execution_count": null,
   "metadata": {},
   "outputs": [],
   "source": [
    "# formulate your conclusion"
   ]
  },
  {
   "cell_type": "markdown",
   "metadata": {},
   "source": [
    "## Summary"
   ]
  },
  {
   "cell_type": "markdown",
   "metadata": {},
   "source": [
    "You should now understand how to include interaction effects in your model! As you can see, interactions can have a strong impact on linear regression models, and they should always be considered when you are constructing your models."
   ]
  }
 ],
 "metadata": {
  "kernelspec": {
   "display_name": "learn-env",
   "language": "python",
   "name": "learn-env"
  },
  "language_info": {
   "codemirror_mode": {
    "name": "ipython",
    "version": 3
   },
   "file_extension": ".py",
   "mimetype": "text/x-python",
   "name": "python",
   "nbconvert_exporter": "python",
   "pygments_lexer": "ipython3",
   "version": "3.6.9"
  }
 },
 "nbformat": 4,
 "nbformat_minor": 2
}
